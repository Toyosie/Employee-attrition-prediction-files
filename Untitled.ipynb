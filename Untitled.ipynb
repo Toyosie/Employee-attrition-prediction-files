{
 "cells": [
  {
   "cell_type": "code",
   "execution_count": 1,
   "metadata": {},
   "outputs": [
    {
     "name": "stdout",
     "output_type": "stream",
     "text": [
      "<class 'pandas.core.frame.DataFrame'>\n",
      "RangeIndex: 14999 entries, 0 to 14998\n",
      "Data columns (total 11 columns):\n",
      "Emp ID                   14999 non-null int64\n",
      "satisfaction_level       14999 non-null float64\n",
      "last_evaluation          14999 non-null float64\n",
      "number_project           14999 non-null int64\n",
      "average_montly_hours     14999 non-null int64\n",
      "time_spend_company       14999 non-null int64\n",
      "Work_accident            14999 non-null int64\n",
      "promotion_last_5years    14999 non-null int64\n",
      "dept                     14999 non-null object\n",
      "salary                   14999 non-null object\n",
      "left_company             14999 non-null int64\n",
      "dtypes: float64(2), int64(7), object(2)\n",
      "memory usage: 1.3+ MB\n",
      "None\n",
      "Accuracy: 76.7%\n",
      "Precision: 47.8%\n",
      "Recall: 25.4%\n"
     ]
    }
   ],
   "source": [
    "#Using logistic regression to predict on what kinds of employees are prone to leave company X.\n",
    "#I chose logistic regression classifier because the dependent variable has two dichotomous values\n",
    "\n",
    "#Data preprocessing\n",
    "\n",
    "#Import libraries\n",
    "import numpy as np\n",
    "import pandas as pd\n",
    "from sklearn import metrics\n",
    "\n",
    "#importing the dataset\n",
    "dataset = pd.read_csv('data.csv')\n",
    "\n",
    "#Select the independent and dependent variables\n",
    "X = dataset.iloc[:, 1:10].values\n",
    "#print(X)\n",
    "Y = dataset.iloc[:,-1].values\n",
    "\n",
    "#no missing values\n",
    "\n",
    "#encode categorical data\n",
    "print(dataset.info())  #'dept' and 'salary' are categorical data\n",
    "from sklearn.preprocessing import LabelEncoder\n",
    "categories = LabelEncoder()\n",
    "\n",
    "X[:,-2] = categories.fit_transform(X[:,-2])\n",
    "#print(X[:,-2]) #encodes the dept values: 7 for sales, 4 for management, 5 for marketing, 0 for IT, etc.\n",
    "X[:,-1] = categories.fit_transform(X[:,-1])\n",
    "#print(X[:,-1])  #encodes the salary values: 1 for low, 2 for medium and 0 for high\n",
    "\n",
    "#split data into train and test sets\n",
    "from sklearn.model_selection import train_test_split\n",
    "X_train, X_test, Y_train, Y_test = train_test_split(\n",
    "        X,Y, test_size = 0.25,random_state=0\n",
    ")\n",
    "\n",
    "#feature scaling\n",
    "#print(dataset.describe()) \n",
    "from sklearn.preprocessing import StandardScaler\n",
    "scaler = StandardScaler()\n",
    "X_train = scaler.fit_transform(X_train)\n",
    "X_test = scaler.transform(X_test)\n",
    "\n",
    "#........................................................\n",
    "#Implementing the logistic regression algorithm\n",
    "from sklearn.linear_model import LogisticRegression\n",
    "classifier = LogisticRegression(random_state = 0, solver='lbfgs')\n",
    "classifier.fit(X_train,Y_train)\n",
    "\n",
    "\n",
    "#predict test results\n",
    "Y_pred= classifier.predict(X_test)\n",
    "\n",
    "#print('Report: {}'.format(metrics.classification_report(Y_test, Y_pred)))\n",
    "\n",
    "#compare results and look at metrics\n",
    "print('Accuracy: {}%'.format(round(metrics.accuracy_score(Y_test, Y_pred)*100,1)))\n",
    "print('Precision: {}%'.format(round(metrics.precision_score(Y_test, Y_pred)*100,1)))\n",
    "print('Recall: {}%'.format(round(metrics.recall_score(Y_test, Y_pred)*100,1)))\n",
    "\n",
    "\n",
    "\n",
    "\n"
   ]
  },
  {
   "cell_type": "code",
   "execution_count": null,
   "metadata": {},
   "outputs": [],
   "source": []
  }
 ],
 "metadata": {
  "kernelspec": {
   "display_name": "Python 3",
   "language": "python",
   "name": "python3"
  },
  "language_info": {
   "codemirror_mode": {
    "name": "ipython",
    "version": 3
   },
   "file_extension": ".py",
   "mimetype": "text/x-python",
   "name": "python",
   "nbconvert_exporter": "python",
   "pygments_lexer": "ipython3",
   "version": "3.7.4"
  },
  "varInspector": {
   "cols": {
    "lenName": 16,
    "lenType": 16,
    "lenVar": 40
   },
   "kernels_config": {
    "python": {
     "delete_cmd_postfix": "",
     "delete_cmd_prefix": "del ",
     "library": "var_list.py",
     "varRefreshCmd": "print(var_dic_list())"
    },
    "r": {
     "delete_cmd_postfix": ") ",
     "delete_cmd_prefix": "rm(",
     "library": "var_list.r",
     "varRefreshCmd": "cat(var_dic_list()) "
    }
   },
   "oldHeight": 305,
   "position": {
    "height": "40px",
    "left": "786px",
    "right": "20px",
    "top": "91px",
    "width": "553px"
   },
   "types_to_exclude": [
    "module",
    "function",
    "builtin_function_or_method",
    "instance",
    "_Feature"
   ],
   "varInspector_section_display": "none",
   "window_display": false
  }
 },
 "nbformat": 4,
 "nbformat_minor": 2
}
